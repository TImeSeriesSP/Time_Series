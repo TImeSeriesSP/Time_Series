{
 "cells": [
  {
   "cell_type": "code",
   "execution_count": 1,
   "metadata": {},
   "outputs": [
    {
     "name": "stderr",
     "output_type": "stream",
     "text": [
      "\n",
      "Attaching package: ‘dplyr’\n",
      "\n",
      "The following objects are masked from ‘package:stats’:\n",
      "\n",
      "    filter, lag\n",
      "\n",
      "The following objects are masked from ‘package:base’:\n",
      "\n",
      "    intersect, setdiff, setequal, union\n",
      "\n",
      "\n",
      "Attaching package: ‘zoo’\n",
      "\n",
      "The following objects are masked from ‘package:base’:\n",
      "\n",
      "    as.Date, as.Date.numeric\n",
      "\n",
      "\n",
      "Attaching package: ‘TSA’\n",
      "\n",
      "The following objects are masked from ‘package:stats’:\n",
      "\n",
      "    acf, arima\n",
      "\n",
      "The following object is masked from ‘package:utils’:\n",
      "\n",
      "    tar\n",
      "\n"
     ]
    }
   ],
   "source": [
    "library(dplyr)\n",
    "library(ggplot2)\n",
    "library(zoo)\n",
    "library(forecast)\n",
    "library(TSA)\n",
    "library(uroot)"
   ]
  },
  {
   "cell_type": "code",
   "execution_count": 2,
   "metadata": {},
   "outputs": [],
   "source": [
    "# Create our SARIMA(8,1,1,0) Model\n",
    "sp <- read.csv(\"GSPC.csv\")\n",
    "sp_500 <- ts(sp$Close, start=c(2018,01,01), freq=250)\n",
    "model <- arima(sp$Close, order = c(1,1,0),seasonal = c(8,0,0))"
   ]
  },
  {
   "cell_type": "code",
   "execution_count": 5,
   "metadata": {},
   "outputs": [],
   "source": [
    "# Create a prediction Function\n",
    "prediction <- predict(model,20)"
   ]
  },
  {
   "cell_type": "code",
   "execution_count": 11,
   "metadata": {},
   "outputs": [
    {
     "data": {
      "text/plain": [
       "Time Series:\n",
       "Start = 213 \n",
       "End = 232 \n",
       "Frequency = 1 \n",
       " [1] 2737 2762 2748 2752 2757 2743 2742 2738 2742 2736 2740 2741 2738 2742 2741\n",
       "[16] 2742 2740 2742 2741 2740"
      ]
     },
     "metadata": {},
     "output_type": "display_data"
    }
   ],
   "source": [
    "# make prediction\n",
    "round(prediction$pred)"
   ]
  },
  {
   "cell_type": "code",
   "execution_count": 12,
   "metadata": {},
   "outputs": [
    {
     "data": {
      "text/plain": [
       "Time Series:\n",
       "Start = 213 \n",
       "End = 232 \n",
       "Frequency = 1 \n",
       " [1]  25  35  42  49  56  61  66  70  73  76  79  82  85  87  90  93  95  98 100\n",
       "[20] 103"
      ]
     },
     "metadata": {},
     "output_type": "display_data"
    }
   ],
   "source": [
    "# Get prediction invervals \n",
    "round(prediction$se)"
   ]
  }
 ],
 "metadata": {
  "kernelspec": {
   "display_name": "R",
   "language": "R",
   "name": "ir"
  },
  "language_info": {
   "codemirror_mode": "r",
   "file_extension": ".r",
   "mimetype": "text/x-r-source",
   "name": "R",
   "pygments_lexer": "r",
   "version": "3.5.1"
  }
 },
 "nbformat": 4,
 "nbformat_minor": 2
}
